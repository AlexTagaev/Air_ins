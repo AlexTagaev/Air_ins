{
 "cells": [
  {
   "cell_type": "code",
   "execution_count": 4,
   "metadata": {},
   "outputs": [
    {
     "name": "stdout",
     "output_type": "stream",
     "text": [
      "('Ответ: Аэропорт - это комплекс сооружений, который включает в себя аэродром, '\n",
      " 'аэровокзал и другие объекты, предназначенные для приема и отправки воздушных '\n",
      " 'судов. Он обеспечивает обслуживание воздушных перевозок и располагает '\n",
      " 'необходимым оборудованием, авиационным персоналом и другими работниками для '\n",
      " 'выполнения этих функций., Количество обращений: 3')\n"
     ]
    }
   ],
   "source": [
    "from api.chunks import Chunk\n",
    "import pprint\n",
    "\n",
    "chunk = Chunk()\n",
    "query = 'Что такое аэропорт?'\n",
    "result = chunk.get_answer(query)\n",
    "pprint.pprint(f'Ответ: {result[0]}, Количество обращений: {result[1]}')"
   ]
  },
  {
   "cell_type": "code",
   "execution_count": 5,
   "metadata": {},
   "outputs": [
    {
     "name": "stdout",
     "output_type": "stream",
     "text": [
      "('Ответ: Страховая премия является платой за страхование, которую Страхователь '\n",
      " 'обязан оплатить Страховщику в порядке и в сроки, установленные договором '\n",
      " 'страхования., Количество обращений: 4')\n"
     ]
    }
   ],
   "source": [
    "chunk = Chunk()\n",
    "query = 'Что такое страховая премия?'\n",
    "result = chunk.get_answer(query)\n",
    "pprint.pprint(f'Ответ: {result[0]}, Количество обращений: {result[1]}')"
   ]
  }
 ],
 "metadata": {
  "kernelspec": {
   "display_name": ".venv",
   "language": "python",
   "name": "python3"
  },
  "language_info": {
   "codemirror_mode": {
    "name": "ipython",
    "version": 3
   },
   "file_extension": ".py",
   "mimetype": "text/x-python",
   "name": "python",
   "nbconvert_exporter": "python",
   "pygments_lexer": "ipython3",
   "version": "3.12.7"
  }
 },
 "nbformat": 4,
 "nbformat_minor": 2
}
