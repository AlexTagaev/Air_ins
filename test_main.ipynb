{
 "cells": [
  {
   "cell_type": "code",
   "execution_count": 2,
   "metadata": {},
   "outputs": [
    {
     "name": "stdout",
     "output_type": "stream",
     "text": [
      "('{\"Answer\":\"Страховая сумма — это предельная сумма страховых выплат по '\n",
      " 'договору страхования, установленная в нем. Она может быть определена как '\n",
      " 'одна общая сумма или в виде отдельных лимитов возмещения для каждой группы '\n",
      " 'застрахованных рисков. Размер страховой суммы устанавливается по соглашению '\n",
      " 'сторон договора страхования.\",\"Total requests\":1}')\n"
     ]
    }
   ],
   "source": [
    "import requests\n",
    "import pprint\n",
    "param = {\n",
    "    'text': 'Что такое страховая сумма и как она устанавливается?'\n",
    "}\n",
    "response = requests.post('http://127.0.0.1:8000/api/get_answer', json = param)\n",
    "pprint.pprint(response.text)"
   ]
  },
  {
   "cell_type": "code",
   "execution_count": 3,
   "metadata": {},
   "outputs": [
    {
     "name": "stdout",
     "output_type": "stream",
     "text": [
      "('{\"Answer\":\"Страховым риском является предполагаемое событие, на случай '\n",
      " 'наступления которого проводится страхование. В данном контексте это риски '\n",
      " 'наступления гражданской ответственности Страхователя за вред жизни, здоровью '\n",
      " 'и/или имуществу юридических или физических лиц, нанесенный в процессе '\n",
      " 'производственной деятельности.\",\"Total requests\":2}')\n"
     ]
    }
   ],
   "source": [
    "param = {\n",
    "    'text': 'Что является страховым риском?'\n",
    "}\n",
    "response = requests.post('http://127.0.0.1:8000/api/get_answer', json = param)\n",
    "pprint.pprint(response.text)"
   ]
  },
  {
   "cell_type": "code",
   "execution_count": 18,
   "metadata": {},
   "outputs": [
    {
     "name": "stdout",
     "output_type": "stream",
     "text": [
      "'{\"Total requests\":4}'\n"
     ]
    }
   ],
   "source": [
    "response = requests.get('http://127.0.0.1:8000/api/stat')\n",
    "pprint.pprint(response.text)"
   ]
  }
 ],
 "metadata": {
  "kernelspec": {
   "display_name": ".venv",
   "language": "python",
   "name": "python3"
  },
  "language_info": {
   "codemirror_mode": {
    "name": "ipython",
    "version": 3
   },
   "file_extension": ".py",
   "mimetype": "text/x-python",
   "name": "python",
   "nbconvert_exporter": "python",
   "pygments_lexer": "ipython3",
   "version": "3.12.7"
  }
 },
 "nbformat": 4,
 "nbformat_minor": 2
}
